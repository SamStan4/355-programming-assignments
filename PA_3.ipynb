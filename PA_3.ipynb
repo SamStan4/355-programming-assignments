{
 "cells": [
  {
   "cell_type": "code",
   "execution_count": 46,
   "id": "6e2c4e94-4f62-42f7-a27b-5fa575a9f372",
   "metadata": {},
   "outputs": [],
   "source": [
    "def partition(a : list, l : int, r : int, comp) -> int:\n",
    "    p = a[l]\n",
    "    while l < r:\n",
    "        if comp(a[l], a[r]):\n",
    "            a[l], a[r] = a[r], a[l]\n",
    "        if a[l] == p:\n",
    "            r -= 1\n",
    "        else:\n",
    "            l += 1\n",
    "    return l"
   ]
  },
  {
   "cell_type": "code",
   "execution_count": 4,
   "id": "c2c52a48-2a1b-4f8a-bca0-6c11caa8234c",
   "metadata": {},
   "outputs": [],
   "source": [
    "def quick_sort_helper(a : list, l : int, r : int, comp) -> None:\n",
    "    if l < r:\n",
    "        pivot_idx : int = partition(\n",
    "            a = a,\n",
    "            l = l,\n",
    "            r = r,\n",
    "            comp = comp\n",
    "        )\n",
    "        quick_sort_helper(\n",
    "            a = a,\n",
    "            l = l,\n",
    "            r = pivot_idx - 1,\n",
    "            comp = comp\n",
    "        )\n",
    "        quick_sort_helper(\n",
    "            a = a,\n",
    "            l = pivot_idx + 1,\n",
    "            r = r,\n",
    "            comp = comp\n",
    "        )"
   ]
  },
  {
   "cell_type": "code",
   "execution_count": 5,
   "id": "9ecdae24-9429-4746-98cd-3fed15537c23",
   "metadata": {},
   "outputs": [],
   "source": [
    "def quick_sort_ascending(a : list) -> None:\n",
    "    quick_sort_helper(\n",
    "        a = a,\n",
    "        l = 0,\n",
    "        r = len(a) - 1,\n",
    "        comp = lambda x, y : x > y\n",
    "    )"
   ]
  },
  {
   "cell_type": "code",
   "execution_count": 6,
   "id": "8c14d01a-7489-4fdf-8ed3-56e66b8d7729",
   "metadata": {},
   "outputs": [],
   "source": [
    "def quick_sort_descending(a : list) -> None:\n",
    "    quick_sort_helper(\n",
    "        a = a,\n",
    "        l = 0,\n",
    "        r = len(a) - 1,\n",
    "        comp = lambda x, y : x < y\n",
    "    )"
   ]
  },
  {
   "cell_type": "code",
   "execution_count": null,
   "id": "0ddfa188-a229-4585-9192-5b31b6617ee1",
   "metadata": {},
   "outputs": [],
   "source": []
  }
 ],
 "metadata": {
  "kernelspec": {
   "display_name": "Python 3 (ipykernel)",
   "language": "python",
   "name": "python3"
  },
  "language_info": {
   "codemirror_mode": {
    "name": "ipython",
    "version": 3
   },
   "file_extension": ".py",
   "mimetype": "text/x-python",
   "name": "python",
   "nbconvert_exporter": "python",
   "pygments_lexer": "ipython3",
   "version": "3.12.3"
  }
 },
 "nbformat": 4,
 "nbformat_minor": 5
}
